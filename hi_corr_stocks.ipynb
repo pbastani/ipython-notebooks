{
 "cells": [
  {
   "cell_type": "code",
   "execution_count": 1,
   "metadata": {
    "collapsed": true
   },
   "outputs": [],
   "source": [
    "import pickle\n",
    "import numpy as np\n",
    "import utility as utl"
   ]
  },
  {
   "cell_type": "code",
   "execution_count": 3,
   "metadata": {
    "collapsed": true
   },
   "outputs": [],
   "source": [
    "def rolling_corr(data, window):\n",
    "    start = 0\n",
    "    corr_series = np.empty([data.shape[0]-window, data.shape[1], data.shape[1]])\n",
    "    while start+window < data.shape[0]:\n",
    "        data_window = data.iloc[start:start+window]\n",
    "        corr_series[start, :, :] = np.corrcoef(data_window, rowvar=0)\n",
    "        start += 1\n",
    "    return corr_series"
   ]
  },
  {
   "cell_type": "code",
   "execution_count": 2,
   "metadata": {
    "collapsed": true
   },
   "outputs": [],
   "source": [
    "stocklist = 'nyse'\n",
    "std_threshold = 0.2\n",
    "window = 50"
   ]
  },
  {
   "cell_type": "code",
   "execution_count": 6,
   "metadata": {
    "collapsed": false
   },
   "outputs": [],
   "source": [
    "symbols, prices, dates = pickle.load(open(\"data/\" + stocklist + \"-prices.pkl\", \"rb\"))\n",
    "corr_series = utl.rolling_corr(prices, window)\n",
    "corr_std = np.std(corr_series, 0)\n",
    "upper_tri_idx = np.triu_indices(corr_std.shape[0])\n",
    "corr_std[upper_tri_idx] = np.NaN\n",
    "indices = np.where(corr_std < std_threshold)"
   ]
  },
  {
   "cell_type": "code",
   "execution_count": 15,
   "metadata": {
    "collapsed": false
   },
   "outputs": [
    {
     "name": "stdout",
     "output_type": "stream",
     "text": [
      "standard deviation in correlation time series (std < 0.2):\n",
      "(CPG, BTE): 0.14129\n",
      "(NE, ESV): 0.14111\n",
      "(RIG, ESV): 0.19733\n",
      "(RIG, NE): 0.18184\n"
     ]
    }
   ],
   "source": [
    "print(\"standard deviation in correlation time series (std < 0.2):\")\n",
    "for i in range(0, len(indices[0])):\n",
    "    j1 = indices[0][i]\n",
    "    j2 = indices[1][i]\n",
    "    ticker1 = symbols[j1]\n",
    "    ticker2 = symbols[j2]\n",
    "    print(\"(%s, %s): %.5f\" % (ticker1, ticker2, corr_std[j1,j2]))"
   ]
  },
  {
   "cell_type": "code",
   "execution_count": null,
   "metadata": {
    "collapsed": true
   },
   "outputs": [],
   "source": []
  },
  {
   "cell_type": "code",
   "execution_count": null,
   "metadata": {
    "collapsed": true
   },
   "outputs": [],
   "source": []
  }
 ],
 "metadata": {
  "kernelspec": {
   "display_name": "Python 3",
   "language": "python",
   "name": "python3"
  },
  "language_info": {
   "codemirror_mode": {
    "name": "ipython",
    "version": 3
   },
   "file_extension": ".py",
   "mimetype": "text/x-python",
   "name": "python",
   "nbconvert_exporter": "python",
   "pygments_lexer": "ipython3",
   "version": "3.4.3"
  }
 },
 "nbformat": 4,
 "nbformat_minor": 0
}
